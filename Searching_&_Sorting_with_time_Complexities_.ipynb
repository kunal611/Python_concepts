{
  "nbformat": 4,
  "nbformat_minor": 0,
  "metadata": {
    "colab": {
      "provenance": [],
      "authorship_tag": "ABX9TyMiv4RJNbtQhwkcC2Ge1M8A",
      "include_colab_link": true
    },
    "kernelspec": {
      "name": "python3",
      "display_name": "Python 3"
    },
    "language_info": {
      "name": "python"
    }
  },
  "cells": [
    {
      "cell_type": "markdown",
      "metadata": {
        "id": "view-in-github",
        "colab_type": "text"
      },
      "source": [
        "<a href=\"https://colab.research.google.com/github/kunal611/Python_concepts/blob/main/Searching_%26_Sorting_with_time_Complexities_.ipynb\" target=\"_parent\"><img src=\"https://colab.research.google.com/assets/colab-badge.svg\" alt=\"Open In Colab\"/></a>"
      ]
    },
    {
      "cell_type": "markdown",
      "source": [
        "# COST OF FUNCTION _ FOR CALCULATING TIME COMPLEXITY"
      ],
      "metadata": {
        "id": "5GqIojqaFbNv"
      }
    },
    {
      "cell_type": "code",
      "execution_count": null,
      "metadata": {
        "id": "G8o6MqYktX5L"
      },
      "outputs": [],
      "source": [
        "def foo(n): # 1 ops\n",
        " x=1 # 1 ops\n",
        " y=2 # 1 ops\n",
        " z=3 # 1 ops\n",
        " print(n) # 1 ops"
      ]
    },
    {
      "cell_type": "code",
      "source": [
        "# Cost Function/value\n",
        "# C(foo) = 5\n",
        "# C(foo) = constant"
      ],
      "metadata": {
        "id": "1WvZeIkNkBWQ"
      },
      "execution_count": null,
      "outputs": []
    },
    {
      "cell_type": "code",
      "source": [
        "def bar(n):\n",
        "  x=1 # 1 ops\n",
        "  y=2 # 1 ops\n",
        "  z=3 # 1 ops\n",
        "  for i in range(n): # 1 ops\n",
        "    print(i,end=\" \") # n ops"
      ],
      "metadata": {
        "id": "OeOq1UUPkBYj"
      },
      "execution_count": null,
      "outputs": []
    },
    {
      "cell_type": "code",
      "source": [
        "# Cost Function/value\n",
        "# C(bar) = n+5\n",
        "# C(bar) = Linear\n",
        "# y= mx + c\n"
      ],
      "metadata": {
        "id": "1vzWy1FAkBcx"
      },
      "execution_count": null,
      "outputs": []
    },
    {
      "cell_type": "code",
      "source": [
        "def foobar(n): # 1 ops\n",
        "  x=1 # 1 ops\n",
        "  y=2 # 1 ops\n",
        "  z=3 # 1 ops\n",
        "  for i in range(n): # 1 ops\n",
        "    for j in range(n):\n",
        "      print(j,end=\" \")"
      ],
      "metadata": {
        "id": "ROUFhrbCkBf7"
      },
      "execution_count": null,
      "outputs": []
    },
    {
      "cell_type": "code",
      "source": [
        "# Cost Function/value\n",
        "# C(foobar) = n^2 + n + c\n",
        "# C(foobar) = quadratic"
      ],
      "metadata": {
        "id": "hlaUsByckBjj"
      },
      "execution_count": null,
      "outputs": []
    },
    {
      "cell_type": "code",
      "source": [
        "def foofoobar(n): # 1 ops\n",
        "  x=1 # 1 ops\n",
        "  y=2 # 1 ops\n",
        "  z=3 # 1 ops\n",
        "  for i in range(n): # 1 ops\n",
        "    print(j,end=\" \")\n",
        "    for i in range(n): # 1 ops\n",
        "      for j in range(n):\n",
        "        print(j,end=\" \")"
      ],
      "metadata": {
        "id": "QrmqAgrIkBoB"
      },
      "execution_count": null,
      "outputs": []
    },
    {
      "cell_type": "code",
      "source": [
        "\n",
        "def foofoobar(n): # 1 ops\n",
        "  x=1 # 1 ops\n",
        "  y=2 # 1 ops\n",
        "  z=3 # 1 ops\n",
        "  for i in range(n): # 1 ops\n",
        "    print(j,end=\" \")\n",
        "  for i in range(n): # 1 ops\n",
        "    print(j,end=\" \")\n"
      ],
      "metadata": {
        "id": "15FHsG-ikBro"
      },
      "execution_count": null,
      "outputs": []
    },
    {
      "cell_type": "markdown",
      "source": [
        "# LINER SEARCH"
      ],
      "metadata": {
        "id": "Dad9t2QqFldi"
      }
    },
    {
      "cell_type": "code",
      "source": [
        "#Linear Search\n",
        "'''\n",
        "Problem Statement --> I want to find the index of my target in input\n",
        "Example\n",
        "INPUT --> [5,6,7,1,9,3,5,8]\n",
        "TARGET --> 3\n",
        "OUTPUT --> 5\n",
        "If element is not present , return -1\n",
        "'''"
      ],
      "metadata": {
        "id": "u4BBFRMpkBud",
        "colab": {
          "base_uri": "https://localhost:8080/",
          "height": 53
        },
        "outputId": "731030eb-c47d-4472-ee97-4712cf105ba0"
      },
      "execution_count": null,
      "outputs": [
        {
          "output_type": "execute_result",
          "data": {
            "text/plain": [
              "'\\nProblem Statement --> I want to find the index of my target in input\\nExample\\nINPUT --> [5,6,7,1,9,3,5,8]\\nTARGET --> 3\\nOUTPUT --> 5\\nIf element is not present , return -1\\n'"
            ],
            "application/vnd.google.colaboratory.intrinsic+json": {
              "type": "string"
            }
          },
          "metadata": {},
          "execution_count": 60
        }
      ]
    },
    {
      "cell_type": "code",
      "source": [
        "# METHOD 1\n",
        "def linear_search(arr,target):\n",
        "\n",
        "  for i in range(len(arr)):\n",
        "    if arr[i]==target:\n",
        "      return i\n",
        "  return -1"
      ],
      "metadata": {
        "id": "FoTIvdbHkBxw"
      },
      "execution_count": null,
      "outputs": []
    },
    {
      "cell_type": "code",
      "source": [
        "a=[5,6,7,1,9,3,5,8]\n",
        "a"
      ],
      "metadata": {
        "id": "rlwVFOpRIMyd",
        "colab": {
          "base_uri": "https://localhost:8080/"
        },
        "outputId": "44dc18d6-3797-4b72-d36c-5c673e052c85"
      },
      "execution_count": null,
      "outputs": [
        {
          "output_type": "execute_result",
          "data": {
            "text/plain": [
              "[5, 6, 7, 1, 9, 3, 5, 8]"
            ]
          },
          "metadata": {},
          "execution_count": 62
        }
      ]
    },
    {
      "cell_type": "code",
      "source": [
        "linear_search(a,3)"
      ],
      "metadata": {
        "id": "ugW47E2FIM5w",
        "colab": {
          "base_uri": "https://localhost:8080/"
        },
        "outputId": "c64f9f88-fd30-40fc-b803-f8cf207f7562"
      },
      "execution_count": null,
      "outputs": [
        {
          "output_type": "execute_result",
          "data": {
            "text/plain": [
              "5"
            ]
          },
          "metadata": {},
          "execution_count": 63
        }
      ]
    },
    {
      "cell_type": "code",
      "source": [
        "a=[5,6,3,7,1,9,5,8]\n",
        "a"
      ],
      "metadata": {
        "id": "h817J9mRIM_u",
        "colab": {
          "base_uri": "https://localhost:8080/"
        },
        "outputId": "a91d9266-53b0-4749-db0b-219259c52edd"
      },
      "execution_count": null,
      "outputs": [
        {
          "output_type": "execute_result",
          "data": {
            "text/plain": [
              "[5, 6, 3, 7, 1, 9, 5, 8]"
            ]
          },
          "metadata": {},
          "execution_count": 64
        }
      ]
    },
    {
      "cell_type": "code",
      "source": [
        "linear_search(a,3)"
      ],
      "metadata": {
        "id": "K-O7q1DsINH3",
        "colab": {
          "base_uri": "https://localhost:8080/"
        },
        "outputId": "fc4c7998-cbe6-456b-d58b-c6791832a255"
      },
      "execution_count": null,
      "outputs": [
        {
          "output_type": "execute_result",
          "data": {
            "text/plain": [
              "2"
            ]
          },
          "metadata": {},
          "execution_count": 65
        }
      ]
    },
    {
      "cell_type": "code",
      "source": [
        "# METHOD 2\n",
        "\n",
        "def linear_search1(arr,target):\n",
        "  index=0\n",
        "  for i in arr:\n",
        "    if i==target:\n",
        "      return index\n",
        "    index+=1\n",
        "  return -1"
      ],
      "metadata": {
        "id": "9D10PdKVJQEd"
      },
      "execution_count": null,
      "outputs": []
    },
    {
      "cell_type": "code",
      "source": [
        "a=[5,6,7,1,9,3,5,8]\n",
        "a"
      ],
      "metadata": {
        "id": "a2RtRVoDJZaw",
        "colab": {
          "base_uri": "https://localhost:8080/"
        },
        "outputId": "780fc099-77bc-4d5e-fdf3-c99214099ca6"
      },
      "execution_count": null,
      "outputs": [
        {
          "output_type": "execute_result",
          "data": {
            "text/plain": [
              "[5, 6, 7, 1, 9, 3, 5, 8]"
            ]
          },
          "metadata": {},
          "execution_count": 67
        }
      ]
    },
    {
      "cell_type": "code",
      "source": [
        "linear_search1(a,9)"
      ],
      "metadata": {
        "id": "T-6DLEizKInU",
        "colab": {
          "base_uri": "https://localhost:8080/"
        },
        "outputId": "79b15347-2c07-4392-adfb-c447cedf483b"
      },
      "execution_count": null,
      "outputs": [
        {
          "output_type": "execute_result",
          "data": {
            "text/plain": [
              "4"
            ]
          },
          "metadata": {},
          "execution_count": 68
        }
      ]
    },
    {
      "cell_type": "markdown",
      "source": [
        "# ENUMERATE FUNCTION"
      ],
      "metadata": {
        "id": "sZ8aqT7ZLUKk"
      }
    },
    {
      "cell_type": "code",
      "source": [
        "list(enumerate(a))"
      ],
      "metadata": {
        "id": "ZvRsyu4-K52J",
        "colab": {
          "base_uri": "https://localhost:8080/"
        },
        "outputId": "b4e02697-a715-473b-ce09-ebc67644c3bc"
      },
      "execution_count": null,
      "outputs": [
        {
          "output_type": "execute_result",
          "data": {
            "text/plain": [
              "[(0, 5), (1, 6), (2, 7), (3, 1), (4, 9), (5, 3), (6, 5), (7, 8)]"
            ]
          },
          "metadata": {},
          "execution_count": 69
        }
      ]
    },
    {
      "cell_type": "code",
      "source": [
        "tuple(enumerate(a))"
      ],
      "metadata": {
        "id": "596bENfFLdLn",
        "colab": {
          "base_uri": "https://localhost:8080/"
        },
        "outputId": "46554e3a-b955-4835-ef70-54765e8ceebe"
      },
      "execution_count": null,
      "outputs": [
        {
          "output_type": "execute_result",
          "data": {
            "text/plain": [
              "((0, 5), (1, 6), (2, 7), (3, 1), (4, 9), (5, 3), (6, 5), (7, 8))"
            ]
          },
          "metadata": {},
          "execution_count": 70
        }
      ]
    },
    {
      "cell_type": "code",
      "source": [
        "dict(enumerate(a))"
      ],
      "metadata": {
        "id": "Bk5kPbXPLgdu",
        "colab": {
          "base_uri": "https://localhost:8080/"
        },
        "outputId": "891551b4-61e0-4530-f527-a01c5d16645d"
      },
      "execution_count": null,
      "outputs": [
        {
          "output_type": "execute_result",
          "data": {
            "text/plain": [
              "{0: 5, 1: 6, 2: 7, 3: 1, 4: 9, 5: 3, 6: 5, 7: 8}"
            ]
          },
          "metadata": {},
          "execution_count": 71
        }
      ]
    },
    {
      "cell_type": "code",
      "source": [
        "set(enumerate(a))"
      ],
      "metadata": {
        "id": "TfhSzJ7ALiut",
        "colab": {
          "base_uri": "https://localhost:8080/"
        },
        "outputId": "a93de61f-0a96-4a20-83b6-eb8efb670f77"
      },
      "execution_count": null,
      "outputs": [
        {
          "output_type": "execute_result",
          "data": {
            "text/plain": [
              "{(0, 5), (1, 6), (2, 7), (3, 1), (4, 9), (5, 3), (6, 5), (7, 8)}"
            ]
          },
          "metadata": {},
          "execution_count": 72
        }
      ]
    },
    {
      "cell_type": "code",
      "source": [
        "str(enumerate(a))"
      ],
      "metadata": {
        "id": "1TfjHPSoLprD",
        "colab": {
          "base_uri": "https://localhost:8080/",
          "height": 35
        },
        "outputId": "84685288-e32e-431e-9080-7b98e79d66cb"
      },
      "execution_count": null,
      "outputs": [
        {
          "output_type": "execute_result",
          "data": {
            "text/plain": [
              "'<enumerate object at 0x7eacbc2fcf40>'"
            ],
            "application/vnd.google.colaboratory.intrinsic+json": {
              "type": "string"
            }
          },
          "metadata": {},
          "execution_count": 73
        }
      ]
    },
    {
      "cell_type": "code",
      "source": [
        "# METHOD 3\n",
        "def linear_search3(arr,target):\n",
        "  for index,value in enumerate(a):\n",
        "    if value==target:\n",
        "      return index\n",
        "  return -1"
      ],
      "metadata": {
        "id": "I3dm1EylL0fX"
      },
      "execution_count": null,
      "outputs": []
    },
    {
      "cell_type": "code",
      "source": [
        "a"
      ],
      "metadata": {
        "id": "dL64gKRUM5w8",
        "colab": {
          "base_uri": "https://localhost:8080/"
        },
        "outputId": "cc9c64c1-6ea0-41ae-b6db-676b00acb21a"
      },
      "execution_count": null,
      "outputs": [
        {
          "output_type": "execute_result",
          "data": {
            "text/plain": [
              "[5, 6, 7, 1, 9, 3, 5, 8]"
            ]
          },
          "metadata": {},
          "execution_count": 75
        }
      ]
    },
    {
      "cell_type": "code",
      "source": [
        "linear_search3(a,7)"
      ],
      "metadata": {
        "id": "oSUkI7FSM8md",
        "colab": {
          "base_uri": "https://localhost:8080/"
        },
        "outputId": "52469c28-dbed-4072-aea4-0001ed18f9ff"
      },
      "execution_count": null,
      "outputs": [
        {
          "output_type": "execute_result",
          "data": {
            "text/plain": [
              "2"
            ]
          },
          "metadata": {},
          "execution_count": 76
        }
      ]
    },
    {
      "cell_type": "markdown",
      "source": [
        "# BINARY SEARCH\n",
        "## Used for an sorted Array(List)."
      ],
      "metadata": {
        "id": "qHgrPDsHNF2G"
      }
    },
    {
      "cell_type": "code",
      "source": [
        "def binary_search(arr,target):\n",
        "  start,end=0,len(arr)-1\n",
        "  while start<=end:\n",
        "    mid=(start+end)//2\n",
        "    if arr[mid]==target:\n",
        "      return mid\n",
        "    elif target>arr[mid]:\n",
        "      start=mid+1\n",
        "    else:\n",
        "      end=mid-1\n",
        "  return -1"
      ],
      "metadata": {
        "id": "UOKm88vHNI2a"
      },
      "execution_count": null,
      "outputs": []
    },
    {
      "cell_type": "code",
      "source": [
        "arr=list(range(1,10))\n",
        "arr\n"
      ],
      "metadata": {
        "id": "zZYct3NpNI6F",
        "colab": {
          "base_uri": "https://localhost:8080/"
        },
        "outputId": "d91414b4-9aa2-49bd-fe6c-a2abba44be77"
      },
      "execution_count": null,
      "outputs": [
        {
          "output_type": "execute_result",
          "data": {
            "text/plain": [
              "[1, 2, 3, 4, 5, 6, 7, 8, 9]"
            ]
          },
          "metadata": {},
          "execution_count": 78
        }
      ]
    },
    {
      "cell_type": "code",
      "source": [
        "binary_search(arr,6)"
      ],
      "metadata": {
        "id": "ZMRU_9SZNJF3",
        "colab": {
          "base_uri": "https://localhost:8080/"
        },
        "outputId": "ae2e6628-c940-434f-86fc-f091c61d8e2d"
      },
      "execution_count": null,
      "outputs": [
        {
          "output_type": "execute_result",
          "data": {
            "text/plain": [
              "5"
            ]
          },
          "metadata": {},
          "execution_count": 79
        }
      ]
    },
    {
      "cell_type": "code",
      "source": [
        "b=list(range(1,100))"
      ],
      "metadata": {
        "id": "INHZgb2gQFMf"
      },
      "execution_count": null,
      "outputs": []
    },
    {
      "cell_type": "code",
      "source": [
        "binary_search(b,43)"
      ],
      "metadata": {
        "id": "b1E271BeQFP7",
        "colab": {
          "base_uri": "https://localhost:8080/"
        },
        "outputId": "db33ba51-9fed-48b6-f5db-ac8fd738e4f0"
      },
      "execution_count": null,
      "outputs": [
        {
          "output_type": "execute_result",
          "data": {
            "text/plain": [
              "42"
            ]
          },
          "metadata": {},
          "execution_count": 81
        }
      ]
    },
    {
      "cell_type": "markdown",
      "source": [
        "# SOME BASIC SORTING ALGORITHMS"
      ],
      "metadata": {
        "id": "XxFwCTK6EChP"
      }
    },
    {
      "cell_type": "markdown",
      "source": [
        "# BUBBLE SORT"
      ],
      "metadata": {
        "id": "Md_ApLsDEHVl"
      }
    },
    {
      "cell_type": "code",
      "source": [
        "a=[45,67,21,9,89,76,78,90,56,43]\n",
        "def bubble_sort(a):\n",
        "  for i in range(len(a)-1):\n",
        "    for j in range(len(a)-1-i):\n",
        "      if a[j]>a[j+1]:\n",
        "        a[j],a[j+1]=a[j+1],a[j]\n",
        "  return a\n",
        "\n"
      ],
      "metadata": {
        "id": "zJaqnDt7QFUq"
      },
      "execution_count": null,
      "outputs": []
    },
    {
      "cell_type": "code",
      "source": [
        "bubble_sort(a)"
      ],
      "metadata": {
        "id": "POLCSeSuJMrn",
        "colab": {
          "base_uri": "https://localhost:8080/"
        },
        "outputId": "9f87324f-325d-4612-c7d8-0c63ebbc211d"
      },
      "execution_count": null,
      "outputs": [
        {
          "output_type": "execute_result",
          "data": {
            "text/plain": [
              "[9, 21, 43, 45, 56, 67, 76, 78, 89, 90]"
            ]
          },
          "metadata": {},
          "execution_count": 83
        }
      ]
    },
    {
      "cell_type": "code",
      "source": [
        "a=[45,67,21,9,89,76,78,90,56,43]\n",
        "def optimised_bubble_sort(a):\n",
        "  for i in range(len(a)-1):\n",
        "    is_sorted=True\n",
        "    for j in range(len(a)-1-i):\n",
        "      if a[j]>a[j+1]:\n",
        "        a[j],a[j+1]=a[j+1],a[j]\n",
        "        is_sorted=False\n",
        "    if is_sorted==True:\n",
        "      break\n",
        "  return a"
      ],
      "metadata": {
        "id": "kHEuLN4NZ-sP"
      },
      "execution_count": null,
      "outputs": []
    },
    {
      "cell_type": "code",
      "source": [
        "optimised_bubble_sort(a)"
      ],
      "metadata": {
        "id": "ZAoj21WaaZbE",
        "colab": {
          "base_uri": "https://localhost:8080/"
        },
        "outputId": "bd306080-48a5-4664-cc90-c7dcd848236c"
      },
      "execution_count": null,
      "outputs": [
        {
          "output_type": "execute_result",
          "data": {
            "text/plain": [
              "[9, 21, 43, 45, 56, 67, 76, 78, 89, 90]"
            ]
          },
          "metadata": {},
          "execution_count": 85
        }
      ]
    },
    {
      "cell_type": "code",
      "source": [
        "a=[45,67,21,9,89,76,78,90,56,43]\n",
        "def bubble_sort(a):\n",
        "  counter=0\n",
        "  pass1=0\n",
        "  for i in range(len(a)-1):\n",
        "    print(f\"Iteration No.i --> {i},List --> {a}\")\n",
        "    print(\"-\"*50)\n",
        "    counter+=1\n",
        "    for j in range(len(a)-1-i):\n",
        "      pass1+=1\n",
        "      print(f\"Pass No. --> {j},List --> {a}\")\n",
        "      if a[j]>a[j+1]:\n",
        "        a[j],a[j+1]=a[j+1],a[j]\n",
        "  print(\"Counter --> \",counter)\n",
        "  print(\"Pass --> \",pass1)\n",
        "  return a\n"
      ],
      "metadata": {
        "id": "-Om79pLlc1v8"
      },
      "execution_count": null,
      "outputs": []
    },
    {
      "cell_type": "code",
      "source": [
        "bubble_sort(a)"
      ],
      "metadata": {
        "id": "sV24qfjxc1-d",
        "colab": {
          "base_uri": "https://localhost:8080/"
        },
        "outputId": "e958342f-dc80-4a80-ea5b-1308c5f4f2db"
      },
      "execution_count": null,
      "outputs": [
        {
          "output_type": "stream",
          "name": "stdout",
          "text": [
            "Iteration No.i --> 0,List --> [45, 67, 21, 9, 89, 76, 78, 90, 56, 43]\n",
            "--------------------------------------------------\n",
            "Pass No. --> 0,List --> [45, 67, 21, 9, 89, 76, 78, 90, 56, 43]\n",
            "Pass No. --> 1,List --> [45, 67, 21, 9, 89, 76, 78, 90, 56, 43]\n",
            "Pass No. --> 2,List --> [45, 21, 67, 9, 89, 76, 78, 90, 56, 43]\n",
            "Pass No. --> 3,List --> [45, 21, 9, 67, 89, 76, 78, 90, 56, 43]\n",
            "Pass No. --> 4,List --> [45, 21, 9, 67, 89, 76, 78, 90, 56, 43]\n",
            "Pass No. --> 5,List --> [45, 21, 9, 67, 76, 89, 78, 90, 56, 43]\n",
            "Pass No. --> 6,List --> [45, 21, 9, 67, 76, 78, 89, 90, 56, 43]\n",
            "Pass No. --> 7,List --> [45, 21, 9, 67, 76, 78, 89, 90, 56, 43]\n",
            "Pass No. --> 8,List --> [45, 21, 9, 67, 76, 78, 89, 56, 90, 43]\n",
            "Iteration No.i --> 1,List --> [45, 21, 9, 67, 76, 78, 89, 56, 43, 90]\n",
            "--------------------------------------------------\n",
            "Pass No. --> 0,List --> [45, 21, 9, 67, 76, 78, 89, 56, 43, 90]\n",
            "Pass No. --> 1,List --> [21, 45, 9, 67, 76, 78, 89, 56, 43, 90]\n",
            "Pass No. --> 2,List --> [21, 9, 45, 67, 76, 78, 89, 56, 43, 90]\n",
            "Pass No. --> 3,List --> [21, 9, 45, 67, 76, 78, 89, 56, 43, 90]\n",
            "Pass No. --> 4,List --> [21, 9, 45, 67, 76, 78, 89, 56, 43, 90]\n",
            "Pass No. --> 5,List --> [21, 9, 45, 67, 76, 78, 89, 56, 43, 90]\n",
            "Pass No. --> 6,List --> [21, 9, 45, 67, 76, 78, 89, 56, 43, 90]\n",
            "Pass No. --> 7,List --> [21, 9, 45, 67, 76, 78, 56, 89, 43, 90]\n",
            "Iteration No.i --> 2,List --> [21, 9, 45, 67, 76, 78, 56, 43, 89, 90]\n",
            "--------------------------------------------------\n",
            "Pass No. --> 0,List --> [21, 9, 45, 67, 76, 78, 56, 43, 89, 90]\n",
            "Pass No. --> 1,List --> [9, 21, 45, 67, 76, 78, 56, 43, 89, 90]\n",
            "Pass No. --> 2,List --> [9, 21, 45, 67, 76, 78, 56, 43, 89, 90]\n",
            "Pass No. --> 3,List --> [9, 21, 45, 67, 76, 78, 56, 43, 89, 90]\n",
            "Pass No. --> 4,List --> [9, 21, 45, 67, 76, 78, 56, 43, 89, 90]\n",
            "Pass No. --> 5,List --> [9, 21, 45, 67, 76, 78, 56, 43, 89, 90]\n",
            "Pass No. --> 6,List --> [9, 21, 45, 67, 76, 56, 78, 43, 89, 90]\n",
            "Iteration No.i --> 3,List --> [9, 21, 45, 67, 76, 56, 43, 78, 89, 90]\n",
            "--------------------------------------------------\n",
            "Pass No. --> 0,List --> [9, 21, 45, 67, 76, 56, 43, 78, 89, 90]\n",
            "Pass No. --> 1,List --> [9, 21, 45, 67, 76, 56, 43, 78, 89, 90]\n",
            "Pass No. --> 2,List --> [9, 21, 45, 67, 76, 56, 43, 78, 89, 90]\n",
            "Pass No. --> 3,List --> [9, 21, 45, 67, 76, 56, 43, 78, 89, 90]\n",
            "Pass No. --> 4,List --> [9, 21, 45, 67, 76, 56, 43, 78, 89, 90]\n",
            "Pass No. --> 5,List --> [9, 21, 45, 67, 56, 76, 43, 78, 89, 90]\n",
            "Iteration No.i --> 4,List --> [9, 21, 45, 67, 56, 43, 76, 78, 89, 90]\n",
            "--------------------------------------------------\n",
            "Pass No. --> 0,List --> [9, 21, 45, 67, 56, 43, 76, 78, 89, 90]\n",
            "Pass No. --> 1,List --> [9, 21, 45, 67, 56, 43, 76, 78, 89, 90]\n",
            "Pass No. --> 2,List --> [9, 21, 45, 67, 56, 43, 76, 78, 89, 90]\n",
            "Pass No. --> 3,List --> [9, 21, 45, 67, 56, 43, 76, 78, 89, 90]\n",
            "Pass No. --> 4,List --> [9, 21, 45, 56, 67, 43, 76, 78, 89, 90]\n",
            "Iteration No.i --> 5,List --> [9, 21, 45, 56, 43, 67, 76, 78, 89, 90]\n",
            "--------------------------------------------------\n",
            "Pass No. --> 0,List --> [9, 21, 45, 56, 43, 67, 76, 78, 89, 90]\n",
            "Pass No. --> 1,List --> [9, 21, 45, 56, 43, 67, 76, 78, 89, 90]\n",
            "Pass No. --> 2,List --> [9, 21, 45, 56, 43, 67, 76, 78, 89, 90]\n",
            "Pass No. --> 3,List --> [9, 21, 45, 56, 43, 67, 76, 78, 89, 90]\n",
            "Iteration No.i --> 6,List --> [9, 21, 45, 43, 56, 67, 76, 78, 89, 90]\n",
            "--------------------------------------------------\n",
            "Pass No. --> 0,List --> [9, 21, 45, 43, 56, 67, 76, 78, 89, 90]\n",
            "Pass No. --> 1,List --> [9, 21, 45, 43, 56, 67, 76, 78, 89, 90]\n",
            "Pass No. --> 2,List --> [9, 21, 45, 43, 56, 67, 76, 78, 89, 90]\n",
            "Iteration No.i --> 7,List --> [9, 21, 43, 45, 56, 67, 76, 78, 89, 90]\n",
            "--------------------------------------------------\n",
            "Pass No. --> 0,List --> [9, 21, 43, 45, 56, 67, 76, 78, 89, 90]\n",
            "Pass No. --> 1,List --> [9, 21, 43, 45, 56, 67, 76, 78, 89, 90]\n",
            "Iteration No.i --> 8,List --> [9, 21, 43, 45, 56, 67, 76, 78, 89, 90]\n",
            "--------------------------------------------------\n",
            "Pass No. --> 0,List --> [9, 21, 43, 45, 56, 67, 76, 78, 89, 90]\n",
            "Counter -->  9\n",
            "Pass -->  45\n"
          ]
        },
        {
          "output_type": "execute_result",
          "data": {
            "text/plain": [
              "[9, 21, 43, 45, 56, 67, 76, 78, 89, 90]"
            ]
          },
          "metadata": {},
          "execution_count": 87
        }
      ]
    },
    {
      "cell_type": "code",
      "source": [
        "a=[45,67,21,9,89,76,78,90,56,43]\n",
        "def optimised_bubble_sort(a):\n",
        "  pass2=0\n",
        "  counter1=0\n",
        "  for i in range(len(a)-1):\n",
        "    is_sorted=True\n",
        "    print(f\"Iteration No.i --> {i},List --> {a}\")\n",
        "    print(\"-\"*50)\n",
        "    counter1+=1\n",
        "    for j in range(len(a)-1-i):\n",
        "      pass2+=1\n",
        "      print(f\"Pass No. --> {j},List --> {a}\")\n",
        "      if a[j]>a[j+1]:\n",
        "        a[j],a[j+1]=a[j+1],a[j]\n",
        "        is_sorted=False\n",
        "    if is_sorted==True:\n",
        "      break\n",
        "  print(\"Counter --> \",counter1)\n",
        "  print(\"Pass --> \",pass2)\n",
        "  return a"
      ],
      "metadata": {
        "id": "kk070dQMeZO2"
      },
      "execution_count": null,
      "outputs": []
    },
    {
      "cell_type": "code",
      "source": [
        "optimised_bubble_sort(a)"
      ],
      "metadata": {
        "id": "RpmwrmNCfDn0",
        "colab": {
          "base_uri": "https://localhost:8080/"
        },
        "outputId": "7fa081a6-a771-4334-e46e-24bb6da44735"
      },
      "execution_count": null,
      "outputs": [
        {
          "output_type": "stream",
          "name": "stdout",
          "text": [
            "Iteration No.i --> 0,List --> [45, 67, 21, 9, 89, 76, 78, 90, 56, 43]\n",
            "--------------------------------------------------\n",
            "Pass No. --> 0,List --> [45, 67, 21, 9, 89, 76, 78, 90, 56, 43]\n",
            "Pass No. --> 1,List --> [45, 67, 21, 9, 89, 76, 78, 90, 56, 43]\n",
            "Pass No. --> 2,List --> [45, 21, 67, 9, 89, 76, 78, 90, 56, 43]\n",
            "Pass No. --> 3,List --> [45, 21, 9, 67, 89, 76, 78, 90, 56, 43]\n",
            "Pass No. --> 4,List --> [45, 21, 9, 67, 89, 76, 78, 90, 56, 43]\n",
            "Pass No. --> 5,List --> [45, 21, 9, 67, 76, 89, 78, 90, 56, 43]\n",
            "Pass No. --> 6,List --> [45, 21, 9, 67, 76, 78, 89, 90, 56, 43]\n",
            "Pass No. --> 7,List --> [45, 21, 9, 67, 76, 78, 89, 90, 56, 43]\n",
            "Pass No. --> 8,List --> [45, 21, 9, 67, 76, 78, 89, 56, 90, 43]\n",
            "Iteration No.i --> 1,List --> [45, 21, 9, 67, 76, 78, 89, 56, 43, 90]\n",
            "--------------------------------------------------\n",
            "Pass No. --> 0,List --> [45, 21, 9, 67, 76, 78, 89, 56, 43, 90]\n",
            "Pass No. --> 1,List --> [21, 45, 9, 67, 76, 78, 89, 56, 43, 90]\n",
            "Pass No. --> 2,List --> [21, 9, 45, 67, 76, 78, 89, 56, 43, 90]\n",
            "Pass No. --> 3,List --> [21, 9, 45, 67, 76, 78, 89, 56, 43, 90]\n",
            "Pass No. --> 4,List --> [21, 9, 45, 67, 76, 78, 89, 56, 43, 90]\n",
            "Pass No. --> 5,List --> [21, 9, 45, 67, 76, 78, 89, 56, 43, 90]\n",
            "Pass No. --> 6,List --> [21, 9, 45, 67, 76, 78, 89, 56, 43, 90]\n",
            "Pass No. --> 7,List --> [21, 9, 45, 67, 76, 78, 56, 89, 43, 90]\n",
            "Iteration No.i --> 2,List --> [21, 9, 45, 67, 76, 78, 56, 43, 89, 90]\n",
            "--------------------------------------------------\n",
            "Pass No. --> 0,List --> [21, 9, 45, 67, 76, 78, 56, 43, 89, 90]\n",
            "Pass No. --> 1,List --> [9, 21, 45, 67, 76, 78, 56, 43, 89, 90]\n",
            "Pass No. --> 2,List --> [9, 21, 45, 67, 76, 78, 56, 43, 89, 90]\n",
            "Pass No. --> 3,List --> [9, 21, 45, 67, 76, 78, 56, 43, 89, 90]\n",
            "Pass No. --> 4,List --> [9, 21, 45, 67, 76, 78, 56, 43, 89, 90]\n",
            "Pass No. --> 5,List --> [9, 21, 45, 67, 76, 78, 56, 43, 89, 90]\n",
            "Pass No. --> 6,List --> [9, 21, 45, 67, 76, 56, 78, 43, 89, 90]\n",
            "Iteration No.i --> 3,List --> [9, 21, 45, 67, 76, 56, 43, 78, 89, 90]\n",
            "--------------------------------------------------\n",
            "Pass No. --> 0,List --> [9, 21, 45, 67, 76, 56, 43, 78, 89, 90]\n",
            "Pass No. --> 1,List --> [9, 21, 45, 67, 76, 56, 43, 78, 89, 90]\n",
            "Pass No. --> 2,List --> [9, 21, 45, 67, 76, 56, 43, 78, 89, 90]\n",
            "Pass No. --> 3,List --> [9, 21, 45, 67, 76, 56, 43, 78, 89, 90]\n",
            "Pass No. --> 4,List --> [9, 21, 45, 67, 76, 56, 43, 78, 89, 90]\n",
            "Pass No. --> 5,List --> [9, 21, 45, 67, 56, 76, 43, 78, 89, 90]\n",
            "Iteration No.i --> 4,List --> [9, 21, 45, 67, 56, 43, 76, 78, 89, 90]\n",
            "--------------------------------------------------\n",
            "Pass No. --> 0,List --> [9, 21, 45, 67, 56, 43, 76, 78, 89, 90]\n",
            "Pass No. --> 1,List --> [9, 21, 45, 67, 56, 43, 76, 78, 89, 90]\n",
            "Pass No. --> 2,List --> [9, 21, 45, 67, 56, 43, 76, 78, 89, 90]\n",
            "Pass No. --> 3,List --> [9, 21, 45, 67, 56, 43, 76, 78, 89, 90]\n",
            "Pass No. --> 4,List --> [9, 21, 45, 56, 67, 43, 76, 78, 89, 90]\n",
            "Iteration No.i --> 5,List --> [9, 21, 45, 56, 43, 67, 76, 78, 89, 90]\n",
            "--------------------------------------------------\n",
            "Pass No. --> 0,List --> [9, 21, 45, 56, 43, 67, 76, 78, 89, 90]\n",
            "Pass No. --> 1,List --> [9, 21, 45, 56, 43, 67, 76, 78, 89, 90]\n",
            "Pass No. --> 2,List --> [9, 21, 45, 56, 43, 67, 76, 78, 89, 90]\n",
            "Pass No. --> 3,List --> [9, 21, 45, 56, 43, 67, 76, 78, 89, 90]\n",
            "Iteration No.i --> 6,List --> [9, 21, 45, 43, 56, 67, 76, 78, 89, 90]\n",
            "--------------------------------------------------\n",
            "Pass No. --> 0,List --> [9, 21, 45, 43, 56, 67, 76, 78, 89, 90]\n",
            "Pass No. --> 1,List --> [9, 21, 45, 43, 56, 67, 76, 78, 89, 90]\n",
            "Pass No. --> 2,List --> [9, 21, 45, 43, 56, 67, 76, 78, 89, 90]\n",
            "Iteration No.i --> 7,List --> [9, 21, 43, 45, 56, 67, 76, 78, 89, 90]\n",
            "--------------------------------------------------\n",
            "Pass No. --> 0,List --> [9, 21, 43, 45, 56, 67, 76, 78, 89, 90]\n",
            "Pass No. --> 1,List --> [9, 21, 43, 45, 56, 67, 76, 78, 89, 90]\n",
            "Counter -->  8\n",
            "Pass -->  44\n"
          ]
        },
        {
          "output_type": "execute_result",
          "data": {
            "text/plain": [
              "[9, 21, 43, 45, 56, 67, 76, 78, 89, 90]"
            ]
          },
          "metadata": {},
          "execution_count": 89
        }
      ]
    },
    {
      "cell_type": "markdown",
      "source": [
        "# SELECTION SORT"
      ],
      "metadata": {
        "id": "VcoNVSOPbc39"
      }
    },
    {
      "cell_type": "code",
      "source": [
        "a=[4,5,3,2,1,0,9,6]\n",
        "def selection_sort(a):\n",
        "  for i in range(len(a)-1):\n",
        "    current_min_index=i\n",
        "    print(\"-\"*50)\n",
        "    print(f\"Iteration --> {i} --> List --> \", a)\n",
        "    for j in range(i+1,len(a)):\n",
        "      print(f\"Pass --> {j}\", a)\n",
        "      if a[current_min_index]>a[j]:\n",
        "        current_min_index=j\n",
        "        print(\"current_min_index --> \",current_min_index)\n",
        "    if current_min_index!=i:\n",
        "      a[i],a[current_min_index]=a[current_min_index],a[i]\n",
        "  return a"
      ],
      "metadata": {
        "id": "nInuWdVDax_s"
      },
      "execution_count": null,
      "outputs": []
    },
    {
      "cell_type": "code",
      "source": [
        "selection_sort(a)"
      ],
      "metadata": {
        "id": "sSuj-YQ2wRzD",
        "colab": {
          "base_uri": "https://localhost:8080/"
        },
        "outputId": "3f0ba362-8134-43f5-fa5c-785f967412e6"
      },
      "execution_count": null,
      "outputs": [
        {
          "output_type": "stream",
          "name": "stdout",
          "text": [
            "--------------------------------------------------\n",
            "Iteration --> 0 --> List -->  [4, 5, 3, 2, 1, 0, 9, 6]\n",
            "Pass --> 1 [4, 5, 3, 2, 1, 0, 9, 6]\n",
            "Pass --> 2 [4, 5, 3, 2, 1, 0, 9, 6]\n",
            "current_min_index -->  2\n",
            "Pass --> 3 [4, 5, 3, 2, 1, 0, 9, 6]\n",
            "current_min_index -->  3\n",
            "Pass --> 4 [4, 5, 3, 2, 1, 0, 9, 6]\n",
            "current_min_index -->  4\n",
            "Pass --> 5 [4, 5, 3, 2, 1, 0, 9, 6]\n",
            "current_min_index -->  5\n",
            "Pass --> 6 [4, 5, 3, 2, 1, 0, 9, 6]\n",
            "Pass --> 7 [4, 5, 3, 2, 1, 0, 9, 6]\n",
            "--------------------------------------------------\n",
            "Iteration --> 1 --> List -->  [0, 5, 3, 2, 1, 4, 9, 6]\n",
            "Pass --> 2 [0, 5, 3, 2, 1, 4, 9, 6]\n",
            "current_min_index -->  2\n",
            "Pass --> 3 [0, 5, 3, 2, 1, 4, 9, 6]\n",
            "current_min_index -->  3\n",
            "Pass --> 4 [0, 5, 3, 2, 1, 4, 9, 6]\n",
            "current_min_index -->  4\n",
            "Pass --> 5 [0, 5, 3, 2, 1, 4, 9, 6]\n",
            "Pass --> 6 [0, 5, 3, 2, 1, 4, 9, 6]\n",
            "Pass --> 7 [0, 5, 3, 2, 1, 4, 9, 6]\n",
            "--------------------------------------------------\n",
            "Iteration --> 2 --> List -->  [0, 1, 3, 2, 5, 4, 9, 6]\n",
            "Pass --> 3 [0, 1, 3, 2, 5, 4, 9, 6]\n",
            "current_min_index -->  3\n",
            "Pass --> 4 [0, 1, 3, 2, 5, 4, 9, 6]\n",
            "Pass --> 5 [0, 1, 3, 2, 5, 4, 9, 6]\n",
            "Pass --> 6 [0, 1, 3, 2, 5, 4, 9, 6]\n",
            "Pass --> 7 [0, 1, 3, 2, 5, 4, 9, 6]\n",
            "--------------------------------------------------\n",
            "Iteration --> 3 --> List -->  [0, 1, 2, 3, 5, 4, 9, 6]\n",
            "Pass --> 4 [0, 1, 2, 3, 5, 4, 9, 6]\n",
            "Pass --> 5 [0, 1, 2, 3, 5, 4, 9, 6]\n",
            "Pass --> 6 [0, 1, 2, 3, 5, 4, 9, 6]\n",
            "Pass --> 7 [0, 1, 2, 3, 5, 4, 9, 6]\n",
            "--------------------------------------------------\n",
            "Iteration --> 4 --> List -->  [0, 1, 2, 3, 5, 4, 9, 6]\n",
            "Pass --> 5 [0, 1, 2, 3, 5, 4, 9, 6]\n",
            "current_min_index -->  5\n",
            "Pass --> 6 [0, 1, 2, 3, 5, 4, 9, 6]\n",
            "Pass --> 7 [0, 1, 2, 3, 5, 4, 9, 6]\n",
            "--------------------------------------------------\n",
            "Iteration --> 5 --> List -->  [0, 1, 2, 3, 4, 5, 9, 6]\n",
            "Pass --> 6 [0, 1, 2, 3, 4, 5, 9, 6]\n",
            "Pass --> 7 [0, 1, 2, 3, 4, 5, 9, 6]\n",
            "--------------------------------------------------\n",
            "Iteration --> 6 --> List -->  [0, 1, 2, 3, 4, 5, 9, 6]\n",
            "Pass --> 7 [0, 1, 2, 3, 4, 5, 9, 6]\n",
            "current_min_index -->  7\n"
          ]
        },
        {
          "output_type": "execute_result",
          "data": {
            "text/plain": [
              "[0, 1, 2, 3, 4, 5, 6, 9]"
            ]
          },
          "metadata": {},
          "execution_count": 91
        }
      ]
    },
    {
      "cell_type": "markdown",
      "source": [
        "# INSERTION SORT\n",
        "\n",
        "## 1.   Time complexity --> worst case --> O(n^2)\n",
        "## 2.   Time complexity --> best case --> O(n)\n",
        "\n"
      ],
      "metadata": {
        "id": "zF4MojJVzH0d"
      }
    },
    {
      "cell_type": "code",
      "source": [
        "a=[5,3,2,1,7]\n",
        "def insertion_sort(a):\n",
        "  for i in range(1,len(a)):\n",
        "    index_to_insert=i\n",
        "    j=i-1\n",
        "    while j>=0:\n",
        "      if a[j]<a[index_to_insert]:\n",
        "        break\n",
        "      a[j],a[index_to_insert]=a[index_to_insert],a[j]\n",
        "      index_to_insert=j\n",
        "      j-=1\n",
        "  return a"
      ],
      "metadata": {
        "id": "A8GXYxM9x0Tv"
      },
      "execution_count": null,
      "outputs": []
    },
    {
      "cell_type": "code",
      "source": [
        "insertion_sort(a)"
      ],
      "metadata": {
        "id": "n5BfCp698OYT",
        "colab": {
          "base_uri": "https://localhost:8080/"
        },
        "outputId": "09a7c9c4-5d86-477d-e995-08a3f030c02a"
      },
      "execution_count": null,
      "outputs": [
        {
          "output_type": "execute_result",
          "data": {
            "text/plain": [
              "[1, 2, 3, 5, 7]"
            ]
          },
          "metadata": {},
          "execution_count": 93
        }
      ]
    },
    {
      "cell_type": "code",
      "source": [
        "a=[5,3,2,1,7]\n",
        "def insertion_sort_beautiful(a):\n",
        "  for i in range(1,len(a)):\n",
        "    index_to_insert=i\n",
        "    j=i-1\n",
        "    print(\"=\"*50)\n",
        "    print(f\"Boundary-->\",a[:index_to_insert],\"|\",a[index_to_insert:])\n",
        "    print(f\"Iteration--{i}-->\",a)\n",
        "    print(i)\n",
        "    while j>=0:\n",
        "      if a[j]<a[index_to_insert]:\n",
        "        break\n",
        "      a[j],a[index_to_insert]=a[index_to_insert],a[j]\n",
        "      index_to_insert=j\n",
        "      j-=1\n",
        "      print(j)\n",
        "      print(f\"Pass -> \",a)\n",
        "  return a"
      ],
      "metadata": {
        "id": "O0mknA219qWV"
      },
      "execution_count": null,
      "outputs": []
    },
    {
      "cell_type": "code",
      "source": [
        "insertion_sort_beautiful(a)"
      ],
      "metadata": {
        "id": "mh5Isd5r-Qgn",
        "colab": {
          "base_uri": "https://localhost:8080/"
        },
        "outputId": "04e1572b-5139-4e95-b648-aa2141a23685"
      },
      "execution_count": null,
      "outputs": [
        {
          "output_type": "stream",
          "name": "stdout",
          "text": [
            "==================================================\n",
            "Boundary--> [5] | [3, 2, 1, 7]\n",
            "Iteration--1--> [5, 3, 2, 1, 7]\n",
            "1\n",
            "-1\n",
            "Pass ->  [3, 5, 2, 1, 7]\n",
            "==================================================\n",
            "Boundary--> [3, 5] | [2, 1, 7]\n",
            "Iteration--2--> [3, 5, 2, 1, 7]\n",
            "2\n",
            "0\n",
            "Pass ->  [3, 2, 5, 1, 7]\n",
            "-1\n",
            "Pass ->  [2, 3, 5, 1, 7]\n",
            "==================================================\n",
            "Boundary--> [2, 3, 5] | [1, 7]\n",
            "Iteration--3--> [2, 3, 5, 1, 7]\n",
            "3\n",
            "1\n",
            "Pass ->  [2, 3, 1, 5, 7]\n",
            "0\n",
            "Pass ->  [2, 1, 3, 5, 7]\n",
            "-1\n",
            "Pass ->  [1, 2, 3, 5, 7]\n",
            "==================================================\n",
            "Boundary--> [1, 2, 3, 5] | [7]\n",
            "Iteration--4--> [1, 2, 3, 5, 7]\n",
            "4\n"
          ]
        },
        {
          "output_type": "execute_result",
          "data": {
            "text/plain": [
              "[1, 2, 3, 5, 7]"
            ]
          },
          "metadata": {},
          "execution_count": 95
        }
      ]
    },
    {
      "cell_type": "markdown",
      "source": [
        "# MERGE SORT\n",
        "##Time complexity is nlogn"
      ],
      "metadata": {
        "id": "SLJTHnys_Ob_"
      }
    },
    {
      "cell_type": "code",
      "source": [
        "def merge_sort(a):\n",
        " # base condition\n",
        "  if len(a)==1:\n",
        "    return a\n",
        "  n=len(a)\n",
        "  print(\"Splitted\")\n",
        "  print(f\"Left -> {a[:n//2]} , Right -> {a[n//2:]}\")\n",
        "  #splitting\n",
        "\n",
        "  left = merge_sort(a[:n//2])\n",
        "  right = merge_sort(a[n//2:])\n",
        "  print(\"-\"*50)\n",
        "  print(\"To be merged\")\n",
        "  print(f\"Left -> {left} , Right -> {right}\")\n",
        "  #merging\n",
        "  i,j =0,0\n",
        "  result =[]\n",
        "\n",
        "  while i < len(left) and j < len(right):\n",
        "    if left[i] <= right [j]:\n",
        "      result.append(left[i])\n",
        "      i+=1\n",
        "    else:\n",
        "      result.append(right[j])\n",
        "      j+=1\n",
        "      if i<len(left):\n",
        "        result+=left[i:]\n",
        "      elif j<len(right):\n",
        "        result+=right[j:]\n",
        "  print(f\"Merged List --> {result}\")\n",
        "  print(\"-\"*50)\n",
        "  return result"
      ],
      "metadata": {
        "id": "tnrecrnjSWuc"
      },
      "execution_count": null,
      "outputs": []
    },
    {
      "cell_type": "code",
      "source": [
        "a=[5,4,2,6,1,9,8,7]\n",
        "merge_sort(a)"
      ],
      "metadata": {
        "colab": {
          "base_uri": "https://localhost:8080/"
        },
        "id": "i7W-3T8FTAxv",
        "outputId": "4ee4beeb-ab18-4988-bf8b-0255472fc3fa"
      },
      "execution_count": null,
      "outputs": [
        {
          "output_type": "stream",
          "name": "stdout",
          "text": [
            "Splitted\n",
            "Left -> [5, 4, 2, 6] , Right -> [1, 9, 8, 7]\n",
            "Splitted\n",
            "Left -> [5, 4] , Right -> [2, 6]\n",
            "Splitted\n",
            "Left -> [5] , Right -> [4]\n",
            "--------------------------------------------------\n",
            "To be merged\n",
            "Left -> [5] , Right -> [4]\n",
            "Merged List --> [4, 5]\n",
            "--------------------------------------------------\n",
            "Splitted\n",
            "Left -> [2] , Right -> [6]\n",
            "--------------------------------------------------\n",
            "To be merged\n",
            "Left -> [2] , Right -> [6]\n",
            "Merged List --> [2]\n",
            "--------------------------------------------------\n",
            "--------------------------------------------------\n",
            "To be merged\n",
            "Left -> [4, 5] , Right -> [2]\n",
            "Merged List --> [2, 4, 5]\n",
            "--------------------------------------------------\n",
            "Splitted\n",
            "Left -> [1, 9] , Right -> [8, 7]\n",
            "Splitted\n",
            "Left -> [1] , Right -> [9]\n",
            "--------------------------------------------------\n",
            "To be merged\n",
            "Left -> [1] , Right -> [9]\n",
            "Merged List --> [1]\n",
            "--------------------------------------------------\n",
            "Splitted\n",
            "Left -> [8] , Right -> [7]\n",
            "--------------------------------------------------\n",
            "To be merged\n",
            "Left -> [8] , Right -> [7]\n",
            "Merged List --> [7, 8]\n",
            "--------------------------------------------------\n",
            "--------------------------------------------------\n",
            "To be merged\n",
            "Left -> [1] , Right -> [7, 8]\n",
            "Merged List --> [1]\n",
            "--------------------------------------------------\n",
            "--------------------------------------------------\n",
            "To be merged\n",
            "Left -> [2, 4, 5] , Right -> [1]\n",
            "Merged List --> [1, 2, 4, 5]\n",
            "--------------------------------------------------\n"
          ]
        },
        {
          "output_type": "execute_result",
          "data": {
            "text/plain": [
              "[1, 2, 4, 5]"
            ]
          },
          "metadata": {},
          "execution_count": 97
        }
      ]
    }
  ]
}